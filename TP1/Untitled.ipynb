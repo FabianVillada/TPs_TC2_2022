{
 "cells": [
  {
   "cell_type": "markdown",
   "metadata": {},
   "source": [
    " \n",
    "# Teoria de Circuitos 2\n",
    "# Trabajo Práctico 1 - Grupo 1\n",
    "## Amplificadores OPAMP y OTA\n",
    "\n",
    "# Ejercicio 3"
   ]
  },
  {
   "cell_type": "markdown",
   "metadata": {},
   "source": [
    "![EnunciadoEj3](EnunciadoEj3.JPG)"
   ]
  },
  {
   "cell_type": "markdown",
   "metadata": {},
   "source": [
    "<div> <div class=\"alert alert-block alert-success\"><b> 3.A</b> </div>"
   ]
  },
  {
   "cell_type": "code",
   "execution_count": null,
   "metadata": {},
   "outputs": [],
   "source": [
    "![Ej3_A](Ej3_A.JPG)"
   ]
  },
  {
   "cell_type": "markdown",
   "metadata": {},
   "source": [
    "$Iin=I2+Ic1$ (1)\n",
    "\n",
    "$I1=\\frac{Vout}{R1}=Ic1$ (2)\n",
    "\n",
    "$Ic1=Vin.sC1$(3)\n",
    "\n",
    "\n",
    "(2) =(3)\n",
    "\n",
    "$Vout=Vin.sRC1$\n",
    "\n",
    "$Iin=\\frac{Vin-Vout}{R2}+Vin.sC$\n",
    "\n",
    "remplazo Vout\n",
    "\n",
    "$Iin.R2= Vin-Vin.sR1C+Vin.sR2C$\n",
    "\n",
    "$Iin.R2 = Vin (1-sR1C+sR2C)$\n",
    "\n",
    "$\\frac{Vin}{Iin}=\\frac{R2}{s(R2C-R1C)+1}$\n",
    "\n",
    "$Zin= \\frac{\\frac{R2}{R1C-R2C}}{s+\\frac{1}{R1C-R2C}}$\n",
    "\n",
    "$s-->0$ => $Zin ->  R$\n",
    "\n",
    "$s-->infinito$ => $Zin ->  0$\n",
    "\n",
    "Comportamiento de impedancia capacitiva"
   ]
  }
 ],
 "metadata": {
  "kernelspec": {
   "display_name": "Python 3",
   "language": "python",
   "name": "python3"
  },
  "language_info": {
   "codemirror_mode": {
    "name": "ipython",
    "version": 3
   },
   "file_extension": ".py",
   "mimetype": "text/x-python",
   "name": "python",
   "nbconvert_exporter": "python",
   "pygments_lexer": "ipython3",
   "version": "3.8.3"
  }
 },
 "nbformat": 4,
 "nbformat_minor": 4
}

{
 "cells": [
  {
   "cell_type": "markdown",
   "metadata": {},
   "source": [
    "# <center> Teoria de Circuitos 2</center>\n",
    "# <center>Trabajo Práctico 1 - Grupo 1</center>\n",
    "## <center>Amplificadores OPAMP y OTA</center>\n",
    "\n",
    "## Belen torres, Victor Gerez, Gaston Barthou, Fabian Villada\n"
   ]
  },
  {
   "cell_type": "markdown",
   "metadata": {},
   "source": [
    "<div> <div class=\"alert alert-block alert-success\"><b> Ejercicio 1</b> </div>"
   ]
  },
  {
   "cell_type": "code",
   "execution_count": null,
   "metadata": {},
   "outputs": [],
   "source": [
    "## https://nbviewer.org/github/kurepa82/TC2/blob/main/Ejercicio2/Ejercicio%202%20-%20TP1.ipynb"
   ]
  },
  {
   "cell_type": "markdown",
   "metadata": {},
   "source": [
    "<div> <div class=\"alert alert-block alert-success\"><b> Ejercicio 2</b> </div>"
   ]
  },
  {
   "cell_type": "code",
   "execution_count": null,
   "metadata": {},
   "outputs": [],
   "source": [
    "## https://nbviewer.org/github/kurepa82/TC2/blob/main/Ejercicio2/Ejercicio%202%20-%20TP1.ipynb"
   ]
  },
  {
   "cell_type": "markdown",
   "metadata": {},
   "source": [
    "<div> <div class=\"alert alert-block alert-success\"><b>Ejercicio 4</b> </div>"
   ]
  },
  {
   "cell_type": "code",
   "execution_count": null,
   "metadata": {},
   "outputs": [],
   "source": [
    "## https://nbviewer.org/github/kurepa82/TC2/blob/main/Ejercicio%204/Ejercicio%204%20-%20TP1.ipynb"
   ]
  },
  {
   "cell_type": "markdown",
   "metadata": {},
   "source": [
    "<div> <div class=\"alert alert-block alert-success\"><b>Ejercicio 5</b> </div>"
   ]
  },
  {
   "cell_type": "code",
   "execution_count": null,
   "metadata": {},
   "outputs": [],
   "source": [
    "## https://nbviewer.org/github/victorgerez/TC2/blob/main/TPs/TP1/Ejercicio_5/TP1_Ejercicio_5.ipynb"
   ]
  },
  {
   "cell_type": "markdown",
   "metadata": {},
   "source": [
    "<div> <div class=\"alert alert-block alert-success\"><b>Ejercicio 7A</b> </div>"
   ]
  },
  {
   "cell_type": "code",
   "execution_count": null,
   "metadata": {},
   "outputs": [],
   "source": [
    "## https://nbviewer.org/github/kurepa82/TC2/blob/main/Ejercicio%207/Ejercicio%207a/Ejercicio%207%20-%20TP1.ipynb"
   ]
  },
  {
   "cell_type": "markdown",
   "metadata": {},
   "source": [
    "<div> <div class=\"alert alert-block alert-success\"><b>Ejercicio 7B</b> </div>"
   ]
  },
  {
   "cell_type": "code",
   "execution_count": null,
   "metadata": {},
   "outputs": [],
   "source": [
    "## https://nbviewer.org/github/kurepa82/TC2/blob/main/Ejercicio%207/Ejercicio%207b/Ejercicio%207%20-%20TP1.ipynb"
   ]
  }
 ],
 "metadata": {
  "kernelspec": {
   "display_name": "Python 3",
   "language": "python",
   "name": "python3"
  },
  "language_info": {
   "codemirror_mode": {
    "name": "ipython",
    "version": 3
   },
   "file_extension": ".py",
   "mimetype": "text/x-python",
   "name": "python",
   "nbconvert_exporter": "python",
   "pygments_lexer": "ipython3",
   "version": "3.8.3"
  }
 },
 "nbformat": 4,
 "nbformat_minor": 4
}

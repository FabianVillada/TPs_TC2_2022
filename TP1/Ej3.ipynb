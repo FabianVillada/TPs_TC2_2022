{
 "cells": [
  {
   "cell_type": "markdown",
   "metadata": {},
   "source": [
    " \n",
    "# Teoria de Circuitos 2\n",
    "# Trabajo Práctico 1 - Grupo 1\n",
    "## Amplificadores OPAMP y OTA\n",
    "\n",
    "# Ejercicio 3\n"
   ]
  },
  {
   "cell_type": "markdown",
   "metadata": {},
   "source": [
    "![EnunciadoEj3](EnunciadoEj3.JPG)"
   ]
  },
  {
   "cell_type": "markdown",
   "metadata": {},
   "source": [
    "<div> <div class=\"alert alert-block alert-success\">\n",
    "<b> 3.A</b>\n",
    "</div>"
   ]
  },
  {
   "cell_type": "markdown",
   "metadata": {},
   "source": [
    "![Ej3_A](Ej3_A.JPG)"
   ]
  },
  {
   "cell_type": "markdown",
   "metadata": {},
   "source": [
    "$Iin=I2+Ic1$ (1)\n",
    "\n",
    "$I1=\\frac{Vout}{R1}=Ic1$ (2)\n",
    "\n",
    "$Ic1=Vin.sC1$(3)\n",
    "\n",
    "\n",
    "(2) =(3)\n",
    "\n",
    "$Vout=Vin.sRC1$\n",
    "\n",
    "$Iin=\\frac{Vin-Vout}{R2}+Vin.sC$\n",
    "\n",
    "remplazo Vout\n",
    "\n",
    "$Iin.R2= Vin-Vin.sR1C+Vin.sR2C$\n",
    "\n",
    "$Iin.R2 = Vin (1-sR1C+sR2C)$\n",
    "\n",
    "$\\frac{Vin}{Iin}=\\frac{R2}{s(R2C-R1C)+1}$\n",
    "\n",
    "$Zin= \\frac{\\frac{R2}{R1C-R2C}}{s+\\frac{1}{R1C-R2C}}$\n",
    "\n",
    "$s-->0$ => $Zin ->  R$\n",
    "\n",
    "$s-->infinito$ => $Zin ->  0$\n",
    "\n",
    "Comportamiento de impedancia capacitiva\n"
   ]
  },
  {
   "cell_type": "markdown",
   "metadata": {},
   "source": [
    "<div> <div class=\"alert alert-block alert-success\"><b> 3.B</b> </div>"
   ]
  },
  {
   "cell_type": "markdown",
   "metadata": {},
   "source": [
    "![Ej3_B](Ej3_B.JPG)"
   ]
  },
  {
   "cell_type": "markdown",
   "metadata": {},
   "source": [
    "$Iin+I3=I1$\n",
    "\n",
    "$I1=Ic1=Vout.sC$\n",
    "\n",
    "$Iin=I1-I3$\n",
    "\n",
    "$Iin=Vout.sC-\\frac{Vout-Vin}{R3}$ \n",
    "\n",
    "$Vout=Vin.\\frac{\\frac{1}{sC1}}{R1+\\frac{1}{sC1}}$\n",
    "\n",
    "$Vout= Vin. \\frac{1}{sRC1+1}$\n",
    "\n",
    "\n",
    "$Iin= Vout.sC-\\frac{Vout}{R3}+\\frac{Vin}{R3}$ (1)\n",
    "\n",
    "Remplazo Vout en (1) y operando\n",
    "\n",
    "$Iin = Vin.(\\frac{sR1R3C+R3}{s.(R3C+R1C)})$\n",
    "\n",
    "$\\frac{Vin}{Iin}=\\frac{R1R3}{R3+R1}. \\frac{s+\\frac{1}{R1C}}{s}$\n",
    "\n",
    "$Zin=\\frac{R1R3}{R3+R1}. \\frac{s+\\frac{1}{R1C}}{s}$\n",
    "\n",
    "$s-> 0$ => $Zin->infinito$\n",
    "\n",
    "$s-> infinito$ => $Zin->R1//R3$\n",
    "\n",
    "Circuito RC con salida tomada del paralelo R1//R3\n",
    "\n"
   ]
  },
  {
   "cell_type": "markdown",
   "metadata": {},
   "source": [
    "![RC_Ej3_B](RC_Ej3_B.JPG)"
   ]
  },
  {
   "cell_type": "markdown",
   "metadata": {},
   "source": [
    "<div> <div class=\"alert alert-block alert-success\"><b> 3.C</b> </div>"
   ]
  },
  {
   "cell_type": "markdown",
   "metadata": {},
   "source": [
    "![Ej3_C](Ej3_C.JPG)"
   ]
  },
  {
   "cell_type": "markdown",
   "metadata": {},
   "source": [
    "$(Vin-Vout).sC=Iin$\n",
    "\n",
    "Del Inverversor conformado por A2\n",
    "\n",
    "$\\frac{Vout}{Vin}=-\\frac{R2}{R1}$\n",
    "\n",
    "Remplazo\n",
    "\n",
    "\n",
    "$(Vin+\\frac{R2}{R1}.Vin)=Iin.\\frac{1}{sC}$\n",
    "\n",
    "$Vin(1+\\frac{R2}{R1})=Iin.\\frac{1}{sC}$\n",
    "\n",
    "$\\frac{Vin}{Iin}=\\frac{1+\\frac{R2}{R1}}{sC}$\n",
    "\n",
    "$Zin=\\frac{1}{s.\\frac{R1C}{R1+R2}}$\n",
    "\n",
    "$Zin=\\frac{1}{s.K}$; $K=\\frac{R1}{R1+R2}$\n",
    "\n",
    "Comportamiento capacitivo, con un factor K de modificacion de la capacidad"
   ]
  },
  {
   "cell_type": "markdown",
   "metadata": {},
   "source": [
    "<div> <div class=\"alert alert-block alert-success\"><b> 3.D</b> </div>"
   ]
  },
  {
   "cell_type": "markdown",
   "metadata": {},
   "source": [
    "![Ej3_D](Ej3_D.JPG)"
   ]
  },
  {
   "cell_type": "markdown",
   "metadata": {},
   "source": [
    "\n",
    "$Io=Vi.gm$\n",
    "\n",
    "$IL=I+Io$ (1)\n",
    "\n",
    "$I=Iin=IR1$\n",
    "\n",
    "$(Vin-Vout)=I.R1$ (2)\n",
    "\n",
    "$Vout=I2.R2$\n",
    "\n",
    "Parto de (1)\n",
    "\n",
    "$IL=Vi.gm+I$\n",
    "\n",
    "de (2)\n",
    "\n",
    "$Vin-IL.R2=I.R1$\n",
    "\n",
    "$Vin-(Io+I).R2=I.R1$\n",
    "\n",
    "$Vin-(Vin.gm+I)R2 = I.R1$\n",
    "\n",
    "$Vin-Vin.gm.R2+Iin.R2 = Iin.R1$\n",
    "\n",
    "$Vin(1-gmR2)=Iin(R2+R1)$\n",
    "\n",
    "$Zin=\\frac{R2+R1}{1-gmR2}$\n",
    "\n",
    "Comportamiento resistivo donde la impedancia de entarda aumenta con gm\n"
   ]
  }
 ],
 "metadata": {
  "kernelspec": {
   "display_name": "Python 3",
   "language": "python",
   "name": "python3"
  },
  "language_info": {
   "codemirror_mode": {
    "name": "ipython",
    "version": 3
   },
   "file_extension": ".py",
   "mimetype": "text/x-python",
   "name": "python",
   "nbconvert_exporter": "python",
   "pygments_lexer": "ipython3",
   "version": "3.8.3"
  }
 },
 "nbformat": 4,
 "nbformat_minor": 4
}

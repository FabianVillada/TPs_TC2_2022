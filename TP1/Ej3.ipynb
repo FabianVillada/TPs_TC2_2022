{
 "cells": [
  {
   "cell_type": "markdown",
   "metadata": {},
   "source": [
    "## <img src=\"./logo_UTN.svg\" align=\"right\" width=\"150\" /> \n",
    "\n",
    "# <center> Teoria de Circuitos 2</center>\n",
    "# <center>Trabajo Práctico 1 - Grupo 1</center>\n",
    "## <center>Amplificadores OPAMP y OTA</center>\n",
    "\n",
    "# Ejercicio 3"
   ]
  },
  {
   "cell_type": "code",
   "execution_count": null,
   "metadata": {},
   "outputs": [],
   "source": [
    "![EnunciadoEj3](EnunciadoEj3.JPG)"
   ]
  },
  {
   "cell_type": "markdown",
   "metadata": {},
   "source": [
    "<div> <div class=\"alert alert-block alert-success\"><b> 3.A</b> </div>"
   ]
  },
  {
   "cell_type": "markdown",
   "metadata": {},
   "source": [
    "![Ej3_A](Ej3_A.JPG)"
   ]
  },
  {
   "cell_type": "code",
   "execution_count": null,
   "metadata": {},
   "outputs": [],
   "source": [
    "$Ic1=Vi.sC = \\frac{Vi}{Zc}$\n",
    "\n",
    "$I1=\\frac{Vout}{R1}$\n",
    "\n",
    "$Ic1=-I1$"
   ]
  }
 ],
 "metadata": {
  "kernelspec": {
   "display_name": "Python 3",
   "language": "python",
   "name": "python3"
  },
  "language_info": {
   "codemirror_mode": {
    "name": "ipython",
    "version": 3
   },
   "file_extension": ".py",
   "mimetype": "text/x-python",
   "name": "python",
   "nbconvert_exporter": "python",
   "pygments_lexer": "ipython3",
   "version": "3.8.3"
  }
 },
 "nbformat": 4,
 "nbformat_minor": 4
}

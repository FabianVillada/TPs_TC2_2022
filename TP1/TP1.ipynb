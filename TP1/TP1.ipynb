{
 "cells": [
  {
   "cell_type": "markdown",
   "metadata": {},
   "source": [
    "## <img src=\"./logo_UTN.svg\" align=\"right\" width=\"150\" /> \n",
    "\n",
    "### Teoria de Circuitos 2\n",
    "\n",
    "# Trabajo Práctico 1\n",
    "# Ejercicio 1\n",
    "#### Grupo 1\n",
    "***\n",
    "\n"
   ]
  },
  {
   "cell_type": "code",
   "execution_count": null,
   "metadata": {},
   "outputs": [],
   "source": [
    "<div class=\"alert alert-block alert-info\">\n",
    "<b>Ejercicio 1)</b> Partiendo de las siguientes estructuras circuitales, se requiere diseñar un amplificador inversor cuya impedancia de entrada Z1=10 kΩ y su transferencia de tensión $\\frac{V2}{V1}=3000$ Analizar ventajas y desventajas de cada circuito.\n",
    "\n",
    "</div>"
   ]
  },
  {
   "cell_type": "code",
   "execution_count": null,
   "metadata": {},
   "outputs": [],
   "source": [
    "![Ejercicio1](Ejercicio1.jpg)"
   ]
  },
  {
   "cell_type": "code",
   "execution_count": null,
   "metadata": {},
   "outputs": [],
   "source": [
    "</div> <div class=\"alert alert-block alert-success\"><b> 1.A</b> </div>\n",
    "\n",
    "## <img src=\"./Ej1.JPG\" align=\"left\" width=\"300\" /> \n",
    "\n",
    "$I1=\\frac{V1}{R1}$;\n",
    "$I2=\\frac{v2}{R2}$;\n",
    "$I1=-I2$\n",
    "\n",
    "$\\frac{V1}{R1}=\\frac{V2}{R2} =>  \\frac{V2}{V1}=-\\frac{R2}{R1}=3000$ (1)\n",
    "\n",
    "$Zin=\\frac{V1}{I1}$ \n",
    "\n",
    "<font color=red>$Zin=R1=10K\\Omega$</font>\n",
    "\n",
    "de (1) $R2=3000.R1$\n",
    "\n",
    "<font color=red>$R2 = 30M\\Omega$</font>\n",
    "\n",
    "\n",
    "\n",
    "\n",
    "\n",
    "\n"
   ]
  },
  {
   "cell_type": "markdown",
   "metadata": {},
   "source": [
    "</div> <div class=\"alert alert-block alert-success\"><b> 1.B</b> </div>\n",
    "\n",
    "## <img src=\"./Ej1_b.JPG\" align=\"left\" width=\"300\" /> \n",
    "\n",
    "$Zin = 10K\\Omega$;$Av=3000$\n",
    "\n",
    "$Zin=\\frac{Vin}{Iin}$\n",
    "\n",
    "$Zin=R1$\n",
    "\n",
    "<font color=red>$R1=10K\\Omega$</font><br><br><br>\n",
    "\n",
    "\n",
    "$I1=I2$ (1)\n",
    "\n",
    "$Vin.G1=Vt.G2$ (2)\n",
    "\n",
    "$I3=I2+I4$ (3)\n",
    "\n",
    "$(Vout-Vt).G3 = Vt.G2+Vt.G4$\n",
    "\n",
    "$Vout.G3 = Vt.(G2+G4+G3)$ (4)\n",
    "\n",
    "de (2) $Vt=Vin.\\frac {G1}{G2}$\n",
    "\n",
    "remplazamos en (4) $Vout.G3 = Vin.\\frac{G1}{G2}.(G2+G4+G3)$\n",
    "\n",
    "$\\frac{Vout}{Vin}=\\frac{G1}{G1.G2}.(G2+G4+G3)$\n",
    "\n",
    "$Av=\\frac{G1}{G1.G2}.(G2+G4+G3)$\n",
    "\n",
    "<font color=green>$G1=G2=G3=\\frac{1}{10K}$</font> <b>condicion de diseño</b>\n",
    "\n",
    "$Av=-\\frac{G1}{G3^{2}}(2G3+G4)$\n",
    "\n",
    "$G3(Av-2)=G4$\n",
    "\n",
    "$G4\\simeq=\\frac{3000}{10.10^{3}}$\n",
    "\n",
    "$G4=0.3\\mu s$ =><font color=red>$Ra=3.33\\Omega$</font>\n",
    "\n",
    "\n",
    "\n",
    "\n",
    "\n",
    "\n",
    "\n",
    "\n",
    "\n"
   ]
  },
  {
   "cell_type": "code",
   "execution_count": null,
   "metadata": {},
   "outputs": [],
   "source": [
    "</div> <div class=\"alert alert-block alert-success\"><b> 1.C</b> </div>\n",
    "\n",
    "## <img src=\"./Ej1_c.JPG\" align=\"left\" width=\"300\" /> \n",
    "\n",
    "$\\frac{Vout}{Vin}=-3000$;$Zin=10k\\Omega$\n",
    "\n",
    "Caracteristica de OTA es Corriente de salida contralada por la Tension de entrada: $Io= Gm.Vin$\n",
    "    \n",
    "$I1=Vi.gm1$\n",
    "\n",
    "$I2=V2.gm2$\n",
    "\n",
    "$I1=-I2$\n",
    "\n",
    "$V1.gm1 = -V2.gm2$\n",
    "\n",
    "$\\bbox[orange, 8px]{gm1=3000.gm2}$\n",
    "\n",
    "$\\frac{v1}{I1}=Zin$\n",
    "\n",
    "$\\bbox[orange, 8px]{Zin=R1}$\n",
    "\n",
    "\n",
    "\n",
    "\n",
    "\n"
   ]
  },
  {
   "cell_type": "markdown",
   "metadata": {},
   "source": [
    "## Conclusiones\n",
    "\n",
    "</div> <div class=\"alert alert-block alert-success\"><b>Una ganacia de Av=70db o Av= 3000 veces es execisavamente grande por lo que el resistor de la red de alimentacion en la topologia 1.a toma un valor excesivo de $30M\\Omega$\n",
    ", la vn(tension termica) $vn=4.K.T.R$ aumenta y el ruido tiene mucha influencia sobre la informacion de la señal.\n",
    "<b>En la Topologia 1.b se incluye una red T, que disminuye los valores de Los resistores de la red de realimentacion disminuyendo el valor vn y la infuencia del ruido sobre la informacion de la señal.<b>\n",
    "<b>\n",
    "En la topologia 1.c utilizamos OTAs por lo que facilita su integracion sin necesidad de componentes resistivos. En este caso en las simulaciones de LTspice se observan ciertos recortes de señal de salida, los cuales se solucionan bajando el valor de AV.\n",
    "</b> </div>\n",
    "\n",
    "![Simulaciones](SimEj1_c_01.JPG)\n",
    "![Simulaciones](SimEj1_c_02.JPG)\n",
    "\n",
    "\n",
    "\n"
   ]
  }
 ],
 "metadata": {
  "kernelspec": {
   "display_name": "Python 3",
   "language": "python",
   "name": "python3"
  },
  "language_info": {
   "codemirror_mode": {
    "name": "ipython",
    "version": 3
   },
   "file_extension": ".py",
   "mimetype": "text/x-python",
   "name": "python",
   "nbconvert_exporter": "python",
   "pygments_lexer": "ipython3",
   "version": "3.8.3"
  }
 },
 "nbformat": 4,
 "nbformat_minor": 4
}

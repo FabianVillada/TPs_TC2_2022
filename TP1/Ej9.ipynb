{
 "cells": [
  {
   "cell_type": "markdown",
   "metadata": {},
   "source": [
    " \n",
    "\n",
    "# Teoria de Circuitos 2\n",
    "# Trabajo Práctico 1 - Grupo 1\n",
    "## Amplificadores OPAMP y OTA\n",
    "\n",
    "# Ejercicio 9\n",
    "\n"
   ]
  },
  {
   "cell_type": "markdown",
   "metadata": {},
   "source": [
    "![EnunciadoEj9](EnunciadoEj9.JPG)"
   ]
  },
  {
   "cell_type": "markdown",
   "metadata": {},
   "source": [
    "<div class=\"alert alert-block alert-success\"><b> 9.A</b> </div>"
   ]
  },
  {
   "cell_type": "markdown",
   "metadata": {},
   "source": [
    "\n",
    "\n",
    "## <img src=\"./Ej9.JPG\" align=\"left\" width=\"300\" /> \n",
    "\n",
    "$I1-I4-I3-Ic2-I3=0$ (1)\n",
    "\n",
    "$I3=I5$(2)\n",
    "\n",
    "$(Vin-Vx)*G1-(Vx-Vout)*G4-Vx*G3-Vx.sC2=0$\n",
    "\n",
    "$Vin.G1-Vx.G1-Vx.G4+Vout.G4-Vx.G3-Vx.sC2=0$\n",
    "\n",
    "$Vin.G1+Vout.G2-Vx(G1+G4+G3-Vx.sC2)=0$ (3)\n",
    "\n",
    "de (2)\n",
    "$Vx.G3=-Vout.sC5$ => $Vx=-Vout.\\frac{sC5}{G3}$\n",
    "\n",
    "$Vin.G1+Vo.G4+Vout.\\frac{sC5}{G3}(G1+G4+G3+sC2)=0$\n",
    "\n",
    "$Vin.G1=-Vout[(G4+\\frac{sc5}{G3}(G1+G4+G3+sC2))]$\n",
    "                                            \n",
    "    \n",
    "                                \n",
    "                                    Transferencia Filtro Activo Multiple Feedback\n",
    "\\begin{equation}\n",
    "\\frac{Vout}{Vin}=-\\frac{G1.G3}{s^{2}.C2C5+s.(C5G1+C5G2+C5G3)+G2G3}  \n",
    "\\end{equation}\n",
    "\n",
    "\\begin{equation}\n",
    "\\frac{Vout}{Vin}=-\\frac{\\frac{G1.G3}{C2C5}}{s^{2}+s.\\frac{(G1+G2+G3)}{C2}+\\frac{G2G3}{C2C5}}\n",
    "\\end{equation}\n",
    "\n",
    "Comparo con la transferencia Filtro Pasabajos con elementos pasivos\n",
    "\n",
    "\\begin{equation}\n",
    "T=\\frac{wo^2}{s^{2}+s.\\frac{wo}{Q}+wo^2}\n",
    "\\end{equation}\n",
    "\n",
    " Y Considerando que segun los datos\n",
    "\n",
    "$G1=G4=G3=G$\n",
    "\n",
    "$\\bbox[orange, 8px]{wo^{2}=\\frac{G^{2}}{C2C5}}$ ; $\\bbox[orange, 8px]{\\frac{wo}{Q}=\\frac{3.G}{C2}}$ ; $\\bbox[orange, 8px]{Q=\\frac{1}{3}.\\sqrt{\\frac{C2}{C5}}}$\n",
    "\n",
    "\\begin{equation}\n",
    "\\boxed{\\frac{Vout}{Vin}=\\frac{wo^2}{s^{2}+s.\\frac{wo}{Q}+wo^2}}\n",
    "\\end{equation}\n"
   ]
  },
  {
   "cell_type": "markdown",
   "metadata": {},
   "source": [
    "<div class=\"alert alert-block alert-success\"><b> 9.B</b> </div>"
   ]
  },
  {
   "cell_type": "markdown",
   "metadata": {},
   "source": [
    "\n",
    "Para $wo=1000\\frac{rad}{seg}$ ; $C2=4700pF$ ; $C5=47pF$\n",
    "\n",
    "y Considerando\n",
    "\n",
    "$\\bbox[orange, 8px]{wo^{2}=\\frac{G^{2}}{C2C5}}$ ; $\\bbox[orange, 8px]{\\frac{wo}{Q}=\\frac{3.G}{C2}}$ ; $\\bbox[orange, 8px]{Q=\\frac{1}{3}.\\sqrt{\\frac{C2}{C5}}}$\n",
    "\n",
    "$1000^{2}=\\frac{G^{2}}{4700pF.47pF}=\\frac{G^{2}}{2209.10^-19}$\n",
    "\n",
    "$G=4.7.10^{-7}$  => $\\bbox[orange, 8px]{R=2.1M\\Omega}$"
   ]
  },
  {
   "cell_type": "markdown",
   "metadata": {},
   "source": [
    "![Ej9_B1](Ej9_B1.JPG)\n",
    "![Ej9_B](Ej9_B.JPG)"
   ]
  },
  {
   "cell_type": "markdown",
   "metadata": {},
   "source": [
    "<div class=\"alert alert-block alert-success\"><b> Simulacion Numerica Python</b> </div>"
   ]
  },
  {
   "cell_type": "code",
   "execution_count": null,
   "metadata": {},
   "outputs": [],
   "source": [
    "# -*- coding: utf-8 -*-\n",
    "\"\"\"\n",
    "Created on Mon Apr 11 04:13:44 2022\n",
    "\n",
    "EJERCICIO 7.1 SIMULACION\n",
    "\n",
    "A= - wo^2/s^2+s(wo/Q)-wo^2\n",
    "\n",
    "wo=10\n",
    "Q=3.33\n",
    "R=1\n",
    "C2=1F\n",
    "C5=0.01F\n",
    "\n",
    "@author: Fabian\n",
    "\"\"\"\n",
    "\n",
    "import matplotlib.pyplot as plt\n",
    "import numpy as np\n",
    "import scipy.signal as sig\n",
    "from splane import analyze_sys, pretty_print_bicuad_omegayq\n",
    "\n",
    "num = np.array([100]) \n",
    "den = np.array([1,3,100])\n",
    "\n",
    "\n",
    "pretty_print_bicuad_omegayq(num,den)\n",
    "\n",
    "mi_sos = sig.TransferFunction(num,den)\n",
    "\n",
    "plt.close('all')\n",
    "analyze_sys(mi_sos, 'mi SOS')\n"
   ]
  }
 ],
 "metadata": {
  "kernelspec": {
   "display_name": "Python 3",
   "language": "python",
   "name": "python3"
  },
  "language_info": {
   "codemirror_mode": {
    "name": "ipython",
    "version": 3
   },
   "file_extension": ".py",
   "mimetype": "text/x-python",
   "name": "python",
   "nbconvert_exporter": "python",
   "pygments_lexer": "ipython3",
   "version": "3.8.3"
  }
 },
 "nbformat": 4,
 "nbformat_minor": 4
}

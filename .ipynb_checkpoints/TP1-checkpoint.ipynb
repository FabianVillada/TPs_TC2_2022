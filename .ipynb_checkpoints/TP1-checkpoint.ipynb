{
 "cells": [
  {
   "cell_type": "markdown",
   "metadata": {},
   "source": [
    "## <img src=\"./logo_UTN.svg\" align=\"right\" width=\"150\" /> \n",
    "\n",
    "### Teoria de Circuitos 2\n",
    "\n",
    "# Trabajo Práctico 1\n",
    "#### Grupo 1\n",
    "\n"
   ]
  },
  {
   "cell_type": "markdown",
   "metadata": {},
   "source": [
    "<div class=\"alert alert-block alert-info\">\n",
    "<b>Ejercicio 1)</b> Partiendo de las siguientes estructuras circuitales, se requiere diseñar un amplificador inversor cuya impedancia de entrada Z1=10 kΩ y su transferencia de tensión $\\frac{V2}{V1}=3000$ Analizar ventajas y desventajas de cada circuito.\n",
    "\n",
    "</div>"
   ]
  },
  {
   "cell_type": "markdown",
   "metadata": {},
   "source": [
    "![Ejercicio1](Ejercicio1.jpg)"
   ]
  },
  {
   "cell_type": "markdown",
   "metadata": {},
   "source": [
    "</div> <div class=\"alert alert-block alert-success\"><b> 1.A</b> </div>\n",
    "\n",
    "## <img src=\"./Ej1.jpg\" align=\"left\" width=\"300\" /> \n",
    "\n",
    "$I1=\\frac{V1}{R1}$;\n",
    "$I2=\\frac{v2}{R2}$;\n",
    "$I1=-I2$\n",
    "\n",
    "$\\frac{V1}{R1}=\\frac{V2}{R2} =>  \\frac{V2}{V1}=-\\frac{R2}{R1}=3000$ (1)\n",
    "\n",
    "$Zin=\\frac{V1}{I1}$ \n",
    "\n",
    "<font color=red>$Zin=R1=10K\\Omega$</font>\n",
    "\n",
    "de (1) $R2=3000.R1$\n",
    "\n",
    "<font color=red>$R2 = 30M\\Omega$</font>\n",
    "\n",
    "\n",
    "\n",
    "\n",
    "\n",
    "\n"
   ]
  },
  {
   "cell_type": "code",
   "execution_count": null,
   "metadata": {},
   "outputs": [],
   "source": []
  }
 ],
 "metadata": {
  "kernelspec": {
   "display_name": "Python 3",
   "language": "python",
   "name": "python3"
  },
  "language_info": {
   "codemirror_mode": {
    "name": "ipython",
    "version": 3
   },
   "file_extension": ".py",
   "mimetype": "text/x-python",
   "name": "python",
   "nbconvert_exporter": "python",
   "pygments_lexer": "ipython3",
   "version": "3.8.3"
  }
 },
 "nbformat": 4,
 "nbformat_minor": 4
}
